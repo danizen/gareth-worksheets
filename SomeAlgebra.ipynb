{
 "cells": [
  {
   "cell_type": "markdown",
   "metadata": {},
   "source": [
    "# More complicated problems\n",
    "<address>November 11, 2020</address>"
   ]
  },
  {
   "cell_type": "markdown",
   "metadata": {},
   "source": [
    "1. Solve for the value of x (1 step warm-up)\n",
    "\n",
    "$$3x + 2 = 17$$\n",
    "\n",
    "<div style=\"height: 9em;\"></div>"
   ]
  },
  {
   "cell_type": "markdown",
   "metadata": {},
   "source": [
    "2. Solve for the value of y (in 2 steps)\n",
    "\n",
    "$$y^2 + 5y = 12y$$\n",
    "\n",
    "<div style=\"height: 9em;\"></div>"
   ]
  },
  {
   "cell_type": "markdown",
   "metadata": {},
   "source": [
    "3. Solve for the value of z (in 3 steps)\n",
    "\n",
    "$$2z(z+8) = 8z$$\n",
    "\n",
    "<div style=\"height: 9em;\"></div>"
   ]
  },
  {
   "cell_type": "markdown",
   "metadata": {},
   "source": [
    "4. Solve for the value of x (in 3 steps)\n",
    "\n",
    "$$5x = 51 - 12x$$\n",
    "\n",
    "<div style=\"height: 9em;\"></div>"
   ]
  },
  {
   "cell_type": "code",
   "execution_count": null,
   "metadata": {},
   "outputs": [],
   "source": []
  }
 ],
 "metadata": {
  "kernelspec": {
   "display_name": "Python 3",
   "language": "python",
   "name": "python3"
  },
  "language_info": {
   "codemirror_mode": {
    "name": "ipython",
    "version": 3
   },
   "file_extension": ".py",
   "mimetype": "text/x-python",
   "name": "python",
   "nbconvert_exporter": "python",
   "pygments_lexer": "ipython3",
   "version": "3.7.5"
  }
 },
 "nbformat": 4,
 "nbformat_minor": 4
}
