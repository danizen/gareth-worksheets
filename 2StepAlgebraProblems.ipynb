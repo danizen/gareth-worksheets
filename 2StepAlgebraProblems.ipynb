{
 "cells": [
  {
   "cell_type": "markdown",
   "metadata": {},
   "source": [
    "# 2-step Algebra problems\n",
    "\n",
    "<address>November 12, 2020</address>\n",
    "\n",
    "1. What is the value of the value of the variable $x$?\n",
    "\n",
    "$$3x + 112= 163$$\n",
    "\n",
    "<div style=\"height: 9em;\"></div>\n",
    "\n",
    "2. What is the value of the value of the variable $x$?\n",
    "\n",
    "$$39 = 6x - 3$$\n",
    "\n",
    "<div style=\"height: 9em;\"></div>\n",
    "\n",
    "3. What is the value of the variable $x$?\n",
    "\n",
    "$$\\frac{x + 3}{5} = 10$$\n",
    "\n",
    "<div style=\"height: 9em;\"></div>\n",
    "\n",
    "4. What is the value of the variable $x$?\n",
    "\n",
    "$$5x + 15 = 25$$\n",
    "\n",
    "<div style=\"height: 9em;\"></div>"
   ]
  }
 ],
 "metadata": {
  "kernelspec": {
   "display_name": "Python 3",
   "language": "python",
   "name": "python3"
  },
  "language_info": {
   "codemirror_mode": {
    "name": "ipython",
    "version": 3
   },
   "file_extension": ".py",
   "mimetype": "text/x-python",
   "name": "python",
   "nbconvert_exporter": "python",
   "pygments_lexer": "ipython3",
   "version": "3.7.5"
  }
 },
 "nbformat": 4,
 "nbformat_minor": 4
}
